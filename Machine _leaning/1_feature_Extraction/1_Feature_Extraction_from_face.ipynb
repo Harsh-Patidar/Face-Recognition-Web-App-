{
 "cells": [
  {
   "cell_type": "code",
   "execution_count": 16,
   "id": "f614e677",
   "metadata": {},
   "outputs": [],
   "source": [
    "import numpy as np\n",
    "import cv2\n",
    "import dlib\n",
    "from imutils import face_utils"
   ]
  },
  {
   "cell_type": "code",
   "execution_count": 3,
   "id": "7342d87d",
   "metadata": {
    "collapsed": true
   },
   "outputs": [
    {
     "name": "stdout",
     "output_type": "stream",
     "text": [
      "Collecting imutils\n",
      "  Downloading imutils-0.5.4.tar.gz (17 kB)\n",
      "  Preparing metadata (setup.py): started\n",
      "  Preparing metadata (setup.py): finished with status 'done'\n",
      "Building wheels for collected packages: imutils\n",
      "  Building wheel for imutils (setup.py): started\n",
      "  Building wheel for imutils (setup.py): finished with status 'done'\n",
      "  Created wheel for imutils: filename=imutils-0.5.4-py3-none-any.whl size=25855 sha256=cd22826979adb80a41e755d165742c0ad3506d5eb984823dc047eb0246e16fab\n",
      "  Stored in directory: c:\\users\\91999\\appdata\\local\\pip\\cache\\wheels\\31\\d0\\2c\\87ce38f6052879e5b7b18f0f8b4a10ad2a9d210e908d449f16\n",
      "Successfully built imutils\n",
      "Installing collected packages: imutils\n",
      "Successfully installed imutils-0.5.4\n",
      "Note: you may need to restart the kernel to use updated packages.\n"
     ]
    }
   ],
   "source": [
    "pip install imutils\n"
   ]
  },
  {
   "cell_type": "code",
   "execution_count": 17,
   "id": "de77d9eb",
   "metadata": {},
   "outputs": [],
   "source": [
    "img = cv2.imread('./images/single3.jpeg')\n",
    "\n",
    "cv2.imshow('girl',img)\n",
    "cv2.waitKey(0)\n",
    "cv2.destroyAllWindows()"
   ]
  },
  {
   "cell_type": "code",
   "execution_count": 18,
   "id": "83224954",
   "metadata": {},
   "outputs": [],
   "source": [
    "# shape predictor\n",
    "shape_predictor = dlib.shape_predictor('./models/shape_predictor_68_face_landmarks.dat')\n",
    "# face descriptor\n",
    "shape_descriptor = dlib.face_recognition_model_v1(\n",
    "    './models/dlib_face_recognition_resnet_model_v1.dat')"
   ]
  },
  {
   "cell_type": "code",
   "execution_count": 19,
   "id": "a7d9f529",
   "metadata": {},
   "outputs": [],
   "source": [
    "# step1: face detection\n",
    "image = img.copy()\n",
    "face_detector = dlib.get_frontal_face_detector()\n",
    "\n",
    "faces = face_detector(image)\n",
    "# print(faces)\n",
    "\n",
    "for box in faces:\n",
    "    pt1 = box.left(), box.top()\n",
    "    pt2 = box.right(), box.bottom()\n",
    "    \n",
    "    face_shape = shape_predictor(image,box)\n",
    "    face_shape_array = face_utils.shape_to_np(face_shape)\n",
    "    face_descriptor = shape_descriptor.compute_face_descriptor(image,face_shape)\n",
    "#     print(face_shape_array)\n",
    "    for points in face_shape_array:\n",
    "        cv2.circle(image,tuple(points),3,(0,255,0),-1)\n",
    "    \n",
    "    \n",
    "    cv2.rectangle(image,pt1,pt2,(0,255,0))\n",
    "    \n",
    "cv2.imshow('girl face detection',image)\n",
    "cv2.waitKey(0)\n",
    "cv2.destroyAllWindows()"
   ]
  },
  {
   "cell_type": "code",
   "execution_count": 21,
   "id": "6a65d9b5",
   "metadata": {},
   "outputs": [
    {
     "data": {
      "text/plain": [
       "array([-0.17335126,  0.00803434,  0.02118961, -0.15689369, -0.12203179,\n",
       "        0.00706482, -0.13853134, -0.10616095,  0.18554068, -0.10697211,\n",
       "        0.15135066,  0.0110573 , -0.16346999,  0.02125283, -0.08523846,\n",
       "        0.15098841, -0.17203991, -0.13229199, -0.00178504, -0.06190027,\n",
       "        0.03524321,  0.00516379,  0.01648331,  0.08459739, -0.15618078,\n",
       "       -0.31554791, -0.14330454, -0.05339522, -0.02792761, -0.04084032,\n",
       "       -0.00296926,  0.0785884 , -0.20764542,  0.02900638,  0.04623073,\n",
       "        0.2612209 ,  0.01885196, -0.12752494,  0.16910772,  0.02030611,\n",
       "       -0.21337059, -0.06767029,  0.09750898,  0.29249007,  0.22821431,\n",
       "       -0.01863596,  0.03552737, -0.05264485,  0.15798874, -0.28031683,\n",
       "        0.13938682,  0.17057267,  0.07199754,  0.05971541,  0.0672736 ,\n",
       "       -0.12538485,  0.06129587,  0.19352472, -0.16167493, -0.01503951,\n",
       "        0.08420636, -0.09993007,  0.05232593, -0.13203454,  0.26762119,\n",
       "        0.16326159, -0.17861159, -0.11924022,  0.1611805 , -0.11433219,\n",
       "       -0.0310738 ,  0.02374127, -0.19096203, -0.22478276, -0.38718781,\n",
       "        0.04621785,  0.37615889,  0.22406252, -0.09260899,  0.10971205,\n",
       "       -0.13049001, -0.02216896,  0.01835418,  0.15946631,  0.04694751,\n",
       "        0.05273481, -0.08425955,  0.07665016,  0.26122621, -0.04637099,\n",
       "        0.00141462,  0.19893543, -0.02713291, -0.02409185, -0.05634611,\n",
       "        0.13168168, -0.12472468, -0.02579125, -0.14056069,  0.02724451,\n",
       "       -0.07521038,  0.02460269,  0.01807117,  0.13954835, -0.23656274,\n",
       "        0.11669467,  0.00440264, -0.07601418, -0.08522964, -0.10649844,\n",
       "       -0.07542263, -0.04906397,  0.13833795, -0.3073948 ,  0.132548  ,\n",
       "        0.16187683,  0.06355564,  0.2444481 ,  0.08329047,  0.08866758,\n",
       "        0.02230399, -0.11313185, -0.12841482, -0.03044478,  0.00200589,\n",
       "        0.0384954 ,  0.03914193,  0.10939634])"
      ]
     },
     "execution_count": 21,
     "metadata": {},
     "output_type": "execute_result"
    }
   ],
   "source": [
    "np.array(face_descriptor)"
   ]
  },
  {
   "cell_type": "code",
   "execution_count": 22,
   "id": "4d77e817",
   "metadata": {},
   "outputs": [
    {
     "data": {
      "text/plain": [
       "128"
      ]
     },
     "execution_count": 22,
     "metadata": {},
     "output_type": "execute_result"
    }
   ],
   "source": [
    "len(np.array(face_descriptor))"
   ]
  },
  {
   "cell_type": "code",
   "execution_count": null,
   "id": "2a161d84",
   "metadata": {},
   "outputs": [],
   "source": []
  },
  {
   "cell_type": "code",
   "execution_count": null,
   "id": "e5c0681d",
   "metadata": {},
   "outputs": [],
   "source": []
  },
  {
   "cell_type": "code",
   "execution_count": null,
   "id": "40ae41e3",
   "metadata": {},
   "outputs": [],
   "source": []
  },
  {
   "cell_type": "code",
   "execution_count": null,
   "id": "4ec704f5",
   "metadata": {},
   "outputs": [],
   "source": []
  },
  {
   "cell_type": "code",
   "execution_count": null,
   "id": "43319abc",
   "metadata": {},
   "outputs": [],
   "source": []
  },
  {
   "cell_type": "code",
   "execution_count": null,
   "id": "12ddf9f1",
   "metadata": {},
   "outputs": [],
   "source": []
  },
  {
   "cell_type": "code",
   "execution_count": null,
   "id": "b4825bd4",
   "metadata": {},
   "outputs": [],
   "source": []
  },
  {
   "cell_type": "code",
   "execution_count": null,
   "id": "5aae10b0",
   "metadata": {},
   "outputs": [],
   "source": []
  },
  {
   "cell_type": "code",
   "execution_count": null,
   "id": "f16c8bec",
   "metadata": {},
   "outputs": [],
   "source": []
  },
  {
   "cell_type": "code",
   "execution_count": null,
   "id": "c930a6e0",
   "metadata": {},
   "outputs": [],
   "source": []
  },
  {
   "cell_type": "code",
   "execution_count": null,
   "id": "1a25f19a",
   "metadata": {},
   "outputs": [],
   "source": []
  },
  {
   "cell_type": "code",
   "execution_count": null,
   "id": "aa52e755",
   "metadata": {},
   "outputs": [],
   "source": []
  }
 ],
 "metadata": {
  "kernelspec": {
   "display_name": "Python 3 (ipykernel)",
   "language": "python",
   "name": "python3"
  },
  "language_info": {
   "codemirror_mode": {
    "name": "ipython",
    "version": 3
   },
   "file_extension": ".py",
   "mimetype": "text/x-python",
   "name": "python",
   "nbconvert_exporter": "python",
   "pygments_lexer": "ipython3",
   "version": "3.11.4"
  }
 },
 "nbformat": 4,
 "nbformat_minor": 5
}
