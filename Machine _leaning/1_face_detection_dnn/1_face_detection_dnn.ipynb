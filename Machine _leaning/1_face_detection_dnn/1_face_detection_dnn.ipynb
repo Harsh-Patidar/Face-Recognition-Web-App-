{
 "cells": [
  {
   "cell_type": "code",
   "execution_count": 1,
   "id": "a5c08088",
   "metadata": {},
   "outputs": [],
   "source": [
    "import numpy as np\n",
    "import cv2"
   ]
  },
  {
   "cell_type": "code",
   "execution_count": 18,
   "id": "4442eb35",
   "metadata": {},
   "outputs": [],
   "source": [
    "#load the image\n",
    "img = cv2.imread('./images/three_girls4.jpeg')\n",
    "\n",
    "cv2.imshow('faces',img)\n",
    "cv2.waitKey(0)\n",
    "cv2.destroyAllWindows()"
   ]
  },
  {
   "cell_type": "code",
   "execution_count": 19,
   "id": "cf1e6da8",
   "metadata": {},
   "outputs": [],
   "source": [
    "# load the model\n",
    "net = cv2.dnn.readNetFromTensorflow('./models/opencv_face_detector_uint8.pb',\n",
    "                                    './models/raw.githubusercontent.com_spmallick_learnopencv_master_AgeGender_opencv_face_detector.pbtxt.txt')"
   ]
  },
  {
   "cell_type": "code",
   "execution_count": 20,
   "id": "d9e508a9",
   "metadata": {},
   "outputs": [],
   "source": [
    "# extract blob\n",
    "blob = cv2.dnn.blobFromImage(img,1,(300,300),(104,177,123),swapRB=False)"
   ]
  },
  {
   "cell_type": "code",
   "execution_count": 21,
   "id": "24b89a79",
   "metadata": {},
   "outputs": [],
   "source": [
    "#set the blob as input\n",
    "net.setInput(blob)\n",
    "#run the model\n",
    "detections = net.forward()"
   ]
  },
  {
   "cell_type": "code",
   "execution_count": 22,
   "id": "62ff53e9",
   "metadata": {},
   "outputs": [
    {
     "data": {
      "text/plain": [
       "(1, 1, 200, 7)"
      ]
     },
     "execution_count": 22,
     "metadata": {},
     "output_type": "execute_result"
    }
   ],
   "source": [
    "detections.shape"
   ]
  },
  {
   "cell_type": "code",
   "execution_count": 25,
   "id": "e8cd1b68",
   "metadata": {},
   "outputs": [],
   "source": [
    "h,w = img.shape[:2]\n",
    "\n",
    "for i in range(0,detections.shape[2]):\n",
    "    confidence = detections[0,0,i,2]\n",
    "    if confidence >= 0.5:\n",
    "        #print(confidence)\n",
    "        # bounding box(3:7)\n",
    "        box = detections[0,0,i,3:7] # normalized bounding box value\n",
    "        box = box*np.array([w,h,w,h])\n",
    "        box = box.astype(int)\n",
    "        #print(box)\n",
    "        startx,starty, endx, endy = box\n",
    "        #draw the rectangle\n",
    "        cv2.rectangle(img,(startx,starty),(endx,endy),(0,255,0))\n",
    "        \n",
    "        # put text\n",
    "        text = 'face: {:.2f}%'.format(confidence*100)\n",
    "        cv2.putText(img,text,(startx,starty-10),cv2.FONT_HERSHEY_PLAIN,1,(255,255,255),)\n",
    "cv2.imshow('face detect',img)\n",
    "cv2.waitKey(0)\n",
    "cv2.destroyAllWindows()"
   ]
  },
  {
   "cell_type": "code",
   "execution_count": null,
   "id": "78e4ef7c",
   "metadata": {},
   "outputs": [],
   "source": []
  },
  {
   "cell_type": "code",
   "execution_count": null,
   "id": "079d8a14",
   "metadata": {},
   "outputs": [],
   "source": []
  },
  {
   "cell_type": "code",
   "execution_count": null,
   "id": "c9536f25",
   "metadata": {},
   "outputs": [],
   "source": []
  },
  {
   "cell_type": "code",
   "execution_count": null,
   "id": "666a94df",
   "metadata": {},
   "outputs": [],
   "source": []
  },
  {
   "cell_type": "code",
   "execution_count": null,
   "id": "fc9df3f6",
   "metadata": {},
   "outputs": [],
   "source": []
  },
  {
   "cell_type": "code",
   "execution_count": null,
   "id": "bbaeaf78",
   "metadata": {},
   "outputs": [],
   "source": []
  },
  {
   "cell_type": "code",
   "execution_count": null,
   "id": "176b37c7",
   "metadata": {},
   "outputs": [],
   "source": []
  }
 ],
 "metadata": {
  "kernelspec": {
   "display_name": "Python 3 (ipykernel)",
   "language": "python",
   "name": "python3"
  },
  "language_info": {
   "codemirror_mode": {
    "name": "ipython",
    "version": 3
   },
   "file_extension": ".py",
   "mimetype": "text/x-python",
   "name": "python",
   "nbconvert_exporter": "python",
   "pygments_lexer": "ipython3",
   "version": "3.11.4"
  }
 },
 "nbformat": 4,
 "nbformat_minor": 5
}
